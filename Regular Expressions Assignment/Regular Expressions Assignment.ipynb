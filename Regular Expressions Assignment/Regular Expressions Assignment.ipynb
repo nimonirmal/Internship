{
 "cells": [
  {
   "cell_type": "markdown",
   "id": "1205b816",
   "metadata": {},
   "source": [
    "# <span style=\"color:blue\">Question 1- Write a Python program to replace all occurrences of a space, comma, or dot with a colon.\n",
    "\n",
    "    \n",
    "Sample Text- 'Python Exercises, PHP exercises.'              \n",
    "Expected Output: Python:Exercises::PHP:exercises:\n"
   ]
  },
  {
   "cell_type": "code",
   "execution_count": 2,
   "id": "7cb67852",
   "metadata": {},
   "outputs": [
    {
     "data": {
      "text/plain": [
       "'Python:Exercises::PHP:exercises:'"
      ]
     },
     "execution_count": 2,
     "metadata": {},
     "output_type": "execute_result"
    }
   ],
   "source": [
    "import re\n",
    "text= 'Python Exercises, PHP exercises.'\n",
    "pattern=r\"[\\s,.]\" #matches occurrence of space,commmas,dot\n",
    "result=re.sub(pattern, \":\" ,text)\n",
    "result"
   ]
  },
  {
   "cell_type": "markdown",
   "id": "68c65ef8",
   "metadata": {},
   "source": [
    "# <span style=\"color:blue\">Question 2-  Write a Python program to find all words starting with 'a' or 'e' in a given string."
   ]
  },
  {
   "cell_type": "code",
   "execution_count": 22,
   "id": "219cb92f",
   "metadata": {},
   "outputs": [
    {
     "name": "stdout",
     "output_type": "stream",
     "text": [
      "['aerospace', 'and', 'education', 'and', 'aspiring', 'and']\n"
     ]
    }
   ],
   "source": [
    "import re\n",
    "target = '''APJ Abdul Kalam contributions to the field of aerospace and\n",
    "          his commitment to education made him a beloved figure and a role model\n",
    "        for aspiring scientists and students worldwide.'''\n",
    "        \n",
    "pattern = r\"\\b[ae]\\w+\"\n",
    "\n",
    "print(re.findall(pattern,target))"
   ]
  },
  {
   "cell_type": "markdown",
   "id": "e6c74495",
   "metadata": {},
   "source": [
    "# <span style=\"color:blue\">Question 3- Create a function in python to find all words that are at least 4 characters long in a string. The use of the re.compile() method is mandatory."
   ]
  },
  {
   "cell_type": "code",
   "execution_count": 21,
   "id": "8e9cf765",
   "metadata": {},
   "outputs": [
    {
     "name": "stdout",
     "output_type": "stream",
     "text": [
      "['Abdul', 'Kalam', 'contributions', 'field', 'aerospace', 'commitment', 'education', 'made', 'beloved', 'figure', 'role', 'model', 'aspiring', 'scientists', 'students', 'worldwide', '1994']\n"
     ]
    }
   ],
   "source": [
    "import re\n",
    "def find_word(target):\n",
    "    pattern = re.compile(r\"\\b\\w{4,}\\b\")\n",
    "    matches = pattern.findall(target)\n",
    "    return matches\n",
    "    \n",
    "    \n",
    "target = '''APJ Abdul Kalam contributions to the field of aerospace and\n",
    "          his commitment to education made him a beloved figure and a role model\n",
    "        for aspiring scientists and students worldwide 1994.'''\n",
    "\n",
    "print(find_word(target))\n",
    "\n"
   ]
  },
  {
   "cell_type": "markdown",
   "id": "f2f67d11",
   "metadata": {},
   "source": [
    "# <span style=\"color:blue\">Question 4- Create a function in python to find all three, four, and five character words in a string. The use of the re.compile() method is mandatory."
   ]
  },
  {
   "cell_type": "code",
   "execution_count": 20,
   "id": "6530c6de",
   "metadata": {},
   "outputs": [
    {
     "name": "stdout",
     "output_type": "stream",
     "text": [
      "['APJ', 'Abdul', 'Kalam', 'the', 'field', 'and', 'his', 'made', 'him', 'and', 'role', 'model', 'for', 'and', '1994']\n"
     ]
    }
   ],
   "source": [
    "import re\n",
    "def find_word(target):\n",
    "    pattern = re.compile(r\"\\b\\w{3,5}\\b\")\n",
    "    matches = pattern.findall(target)\n",
    "    return matches\n",
    "    \n",
    "    \n",
    "target = '''APJ Abdul Kalam contributions to the field of aerospace and\n",
    "          his commitment to education made him a beloved figure and a role model\n",
    "        for aspiring scientists and students worldwide 1994.'''\n",
    "\n",
    "print(find_word(target))\n"
   ]
  },
  {
   "cell_type": "markdown",
   "id": "990b317b",
   "metadata": {},
   "source": [
    "# <span style=\"color:blue\">Question 5- Create a function in Python to remove the parenthesis in a list of strings.\n",
    "The use of the re.compile() method is mandatory.           \n",
    "\n",
    "Sample Text: [\"example (.com)\", \"hr@fliprobo (.com)\", \"github (.com)\", \"Hello (Data Science World)\", \"Data (Scientist)\"]        \n",
    "    \n",
    "Expected Output:     \n",
    "example.com           \n",
    "hr@fliprobo.com        \n",
    "github.com           \n",
    "Hello Data Science World          \n",
    "Data Scientist             \n"
   ]
  },
  {
   "cell_type": "code",
   "execution_count": 24,
   "id": "c1d892e7",
   "metadata": {},
   "outputs": [
    {
     "name": "stdout",
     "output_type": "stream",
     "text": [
      "example .com\n",
      "hr@fliprobo .com\n",
      "github .com\n",
      "Hello Data Science World\n",
      "Data Scientist\n"
     ]
    }
   ],
   "source": [
    "import re\n",
    "\n",
    "def remove_parenthesis(sample_text):\n",
    "    pattern=re.compile(r\"[()]\")\n",
    "    for i in sample_text :\n",
    "        result=re.sub(pattern,\"\",i)\n",
    "        print(result)\n",
    "        \n",
    "sample_text = [\"example (.com)\", \"hr@fliprobo (.com)\", \"github (.com)\", \"Hello (Data Science World)\", \"Data (Scientist)\"]\n",
    "remove_parenthesis(sample_text)"
   ]
  },
  {
   "cell_type": "markdown",
   "id": "f1b8cec8",
   "metadata": {},
   "source": [
    "# <span style=\"color:blue\">Question 6- Write a python program to remove the parenthesis area from the text stored in the text file using Regular Expression.\n",
    "Sample Text: [\"example (.com)\", \"hr@fliprobo (.com)\", \"github (.com)\", \"Hello (Data Science World)\", \"Data (Scientist)\"]       \n",
    "Expected Output: [\"example\", \"hr@fliprobo\", \"github\", \"Hello\", \"Data\"]                   \n",
    "    \n",
    "Note- Store given sample text in the text file and then to remove the parenthesis area from the text.\n"
   ]
  },
  {
   "cell_type": "code",
   "execution_count": 150,
   "id": "8a8e9aae",
   "metadata": {},
   "outputs": [
    {
     "name": "stdout",
     "output_type": "stream",
     "text": [
      "[\"example\", \"hr@fliprobo\", \"github\", \"Hello\", \"Data\"]\n"
     ]
    }
   ],
   "source": [
    "import re\n",
    "\n",
    "def remove_parentheses(text):\n",
    "    pattern = re.compile(r'\\s?\\([^)]*\\)')\n",
    "    return pattern.sub('', text)\n",
    "\n",
    "input_filename = r\"C:\\Users\\nirma\\OneDrive\\Desktop\\q.no6.txt\"\n",
    "\n",
    "\n",
    "with open(input_filename, 'r') as input_file:\n",
    "    lines = input_file.readlines()\n",
    "\n",
    "modified_lines = [remove_parentheses(line.strip()) for line in lines]\n",
    "\n",
    "for line in modified_lines:\n",
    "    print(line)"
   ]
  },
  {
   "cell_type": "markdown",
   "id": "a9337857",
   "metadata": {},
   "source": [
    "# <span style=\"color:blue\">Question 7- Write a regular expression in Python to split a string into uppercase letters.               \n",
    "Sample text: “ImportanceOfRegularExpressionsInPython”            \n",
    "Expected Output: [‘Importance’, ‘Of’, ‘Regular’, ‘Expression’, ‘In’, ‘Python’]\n"
   ]
  },
  {
   "cell_type": "code",
   "execution_count": 38,
   "id": "6b0a0e01",
   "metadata": {},
   "outputs": [
    {
     "name": "stdout",
     "output_type": "stream",
     "text": [
      "['Importance', 'Of', 'Regular', 'Expressions', 'In', 'Python']\n"
     ]
    }
   ],
   "source": [
    "import re\n",
    "\n",
    "sample_text = \"ImportanceOfRegularExpressionsInPython\"\n",
    "                            \n",
    "pattern =r\"(?<=[a-z])(?=[A-Z])\"\n",
    "\n",
    "\n",
    "result = re.split(pattern,sample_text) \n",
    "print(result)"
   ]
  },
  {
   "cell_type": "markdown",
   "id": "496c687a",
   "metadata": {},
   "source": [
    "# <span style=\"color:blue\">Question 8- Create a function in python to insert spaces between words starting with numbers.\n",
    "Sample Text: “RegularExpression1IsAn2ImportantTopic3InPython\"                            \n",
    "Expected Output: RegularExpression 1IsAn 2ImportantTopic 3InPython\n"
   ]
  },
  {
   "cell_type": "code",
   "execution_count": 3,
   "id": "d992338a",
   "metadata": {},
   "outputs": [
    {
     "name": "stdout",
     "output_type": "stream",
     "text": [
      "RegularExpression 1IsAn 2ImportantTopic 3InPython\n"
     ]
    }
   ],
   "source": [
    "import re\n",
    "\n",
    "def insert_spaces(text):\n",
    "    pattern = re.compile(r'(?<=[A-Za-z])(?=\\d)')\n",
    "    new_text = pattern.sub(' ', text)\n",
    "    return new_text\n",
    "\n",
    "text = \"RegularExpression1IsAn2ImportantTopic3InPython\"\n",
    "result = insert_spaces(text)\n",
    "print(result)"
   ]
  },
  {
   "cell_type": "markdown",
   "id": "fe301e20",
   "metadata": {},
   "source": [
    "# <span style=\"color:blue\">Question 9- Create a function in python to insert spaces between words starting with capital letters or with numbers.\n",
    "\n",
    "Sample Text: “RegularExpression1IsAn2ImportantTopic3InPython\"           \n",
    "Expected Output:  Regular Expression 1 Is An 2 Important Topic 3 In Python\n"
   ]
  },
  {
   "cell_type": "code",
   "execution_count": 25,
   "id": "a6933c7d",
   "metadata": {},
   "outputs": [
    {
     "name": "stdout",
     "output_type": "stream",
     "text": [
      "Regular Expression 1 Is An 2 Important Topic 3 In Python\n"
     ]
    }
   ],
   "source": [
    "import re\n",
    "\n",
    "def insert_spaces(text):\n",
    "    \n",
    "    num_words = re.findall(r'[A-Z][a-z]*|\\d+', text)\n",
    "    new_text = ' '.join(num_words)\n",
    "    return new_text\n",
    "\n",
    "text = \"RegularExpression1IsAn2ImportantTopic3InPython\"\n",
    "output = insert_spaces(text)\n",
    "print(output)\n"
   ]
  },
  {
   "cell_type": "markdown",
   "id": "ed9e8bb1",
   "metadata": {},
   "source": [
    "# <span style=\"color:blue\">Question 10- Write a python program to extract email address from the text stored in the text file using Regular Expression.                    \n",
    "Sample Text- Hello my name is Data Science and my email address is xyz@domain.com and alternate email address is                  xyz.abc@sdomain.domain.com.                    \n",
    "Please contact us at hr@fliprobo.com for further information.                    \n",
    "Expected Output:                                 \n",
    "['xyz@domain.com', 'xyz.abc@sdomain.domain.com']                                \n",
    "['hr@fliprobo.com']                               \n",
    "\n",
    "Note- Store given sample text in the text file and then extract email addresses.                     \n"
   ]
  },
  {
   "cell_type": "code",
   "execution_count": 151,
   "id": "598651f7",
   "metadata": {},
   "outputs": [
    {
     "name": "stdout",
     "output_type": "stream",
     "text": [
      "xyz@domain.com\n",
      "xyz.abc@sdomain.domain.com\n",
      "hr@fliprobo.com\n"
     ]
    }
   ],
   "source": [
    "import re\n",
    "\n",
    "def extract_emails(text):\n",
    "    pattern = re.compile(r'\\b[A-Za-z0-9._%+-]+@[A-Za-z0-9.-]+\\.[A-Z|a-z]{2,7}\\b')\n",
    "    emails = pattern.findall(text)\n",
    "    return emails\n",
    "\n",
    "input_filename = r\"C:\\Users\\nirma\\OneDrive\\Desktop\\q.no10.txt\"\n",
    "\n",
    "with open(input_filename, 'r') as input_file:\n",
    "    content = input_file.read()\n",
    "\n",
    "extracted_emails = extract_emails(content)\n",
    "\n",
    "for email in extracted_emails:\n",
    "    print(email)"
   ]
  },
  {
   "cell_type": "markdown",
   "id": "bfee314f",
   "metadata": {},
   "source": [
    "# <span style=\"color:blue\">Question 11- Write a Python program to match a string that contains only upper and lowercase letters, numbers, and underscores."
   ]
  },
  {
   "cell_type": "code",
   "execution_count": 30,
   "id": "0618fe89",
   "metadata": {},
   "outputs": [
    {
     "name": "stdout",
     "output_type": "stream",
     "text": [
      "True\n",
      "False\n",
      "True\n"
     ]
    }
   ],
   "source": [
    "import re\n",
    "\n",
    "def match_string(string):\n",
    "    pattern = r'^[a-zA-Z0-9_]*$'\n",
    "    if re.search(pattern, string):\n",
    "        return True\n",
    "    else:\n",
    "        return False\n",
    "\n",
    "print(match_string('DEMO_String_123')) \n",
    "print(match_string('DEMO_String_123@')) \n",
    "print(match_string(\"RegularExpression1IsAn2ImportantTopic3InPython\"))"
   ]
  },
  {
   "cell_type": "markdown",
   "id": "5e157f8d",
   "metadata": {},
   "source": [
    "# <span style=\"color:blue\">Question 12- Write a Python program where a string will start with a specific number"
   ]
  },
  {
   "cell_type": "code",
   "execution_count": 47,
   "id": "44ca0f8a",
   "metadata": {},
   "outputs": [
    {
     "name": "stdout",
     "output_type": "stream",
     "text": [
      "False\n",
      "True\n"
     ]
    }
   ],
   "source": [
    "import re\n",
    "\n",
    "def starting_with_number(string, number):\n",
    "    pattern = '^' + str(number)\n",
    "    if re.search(pattern, string):\n",
    "        return True\n",
    "    else:\n",
    "        return False\n",
    "\n",
    "print(starting_with_number('DEMO_String_123', 123))\n",
    "print(starting_with_number('123 DEMO_String_123', 123))\n"
   ]
  },
  {
   "cell_type": "markdown",
   "id": "6a96fc7b",
   "metadata": {},
   "source": [
    "# <span style=\"color:blue\">Question 13- Write a Python program to remove leading zeros from an IP address"
   ]
  },
  {
   "cell_type": "code",
   "execution_count": 49,
   "id": "2344682d",
   "metadata": {},
   "outputs": [
    {
     "name": "stdout",
     "output_type": "stream",
     "text": [
      "192.168.7.1\n"
     ]
    }
   ],
   "source": [
    "import re\n",
    "\n",
    "def remove_leading_zeros(ip_address):\n",
    "    pattern=r'\\b0+(\\d)'\n",
    "    updated_ip_address = re.sub(pattern, r'\\1', ip_address)\n",
    "    return updated_ip_address\n",
    "\n",
    "\n",
    "ip_address = \"192.168.007.001\"\n",
    " \n",
    "print(remove_leading_zeros(ip_address))"
   ]
  },
  {
   "cell_type": "markdown",
   "id": "ba4d4109",
   "metadata": {},
   "source": [
    "# <span style=\"color:blue\">Question 14- Write a regular expression in python to match a date string in the form of Month name followed by day number and year stored in a text file.\n",
    "Sample text :  ' On August 15th 1947 that India was declared independent from British colonialism, and the reins of control were handed over to the leaders of the Country’.                      \n",
    "Expected Output- August 15th 1947                                           \n",
    "Note- Store given sample text in the text file and then extract the date string asked format.\n"
   ]
  },
  {
   "cell_type": "code",
   "execution_count": 149,
   "id": "3d61cda4",
   "metadata": {},
   "outputs": [
    {
     "name": "stdout",
     "output_type": "stream",
     "text": [
      "August 15th 1947\n"
     ]
    }
   ],
   "source": [
    "import re\n",
    "\n",
    "def extract_dates(text):\n",
    "    pattern = re.compile(r'\\b\\w+\\s\\d{1,2}(?:st|nd|rd|th)\\s\\d{4}\\b')\n",
    "    dates = pattern.findall(text)\n",
    "    return dates\n",
    "\n",
    "input_filename = r\"C:\\Users\\nirma\\OneDrive\\Desktop\\qno.14.txt\"\n",
    "\n",
    "with open(input_filename, 'r') as input_file:\n",
    "    content = input_file.read()\n",
    "\n",
    "extracted_dates = extract_dates(content)\n",
    "\n",
    "for date in extracted_dates:\n",
    "    print(date)"
   ]
  },
  {
   "cell_type": "code",
   "execution_count": null,
   "id": "fa2524f3",
   "metadata": {},
   "outputs": [],
   "source": []
  },
  {
   "cell_type": "markdown",
   "id": "f08afd5f",
   "metadata": {},
   "source": [
    "# <span style=\"color:blue\">Question 15- Write a Python program to search some literals strings in a string. \n",
    "Sample text : 'The quick brown fox jumps over the lazy dog.'               \n",
    "Searched words : 'fox', 'dog', 'horse'\n"
   ]
  },
  {
   "cell_type": "code",
   "execution_count": 53,
   "id": "dcc9e4e8",
   "metadata": {},
   "outputs": [
    {
     "name": "stdout",
     "output_type": "stream",
     "text": [
      "['fox', 'dog']\n"
     ]
    }
   ],
   "source": [
    "import re\n",
    "\n",
    "def search_literals(text, searched_words):\n",
    "    found_words = []\n",
    "    \n",
    "    for word in searched_words:\n",
    "        pattern = re.compile(re.escape(word))\n",
    "        if pattern.search(text):\n",
    "            found_words.append(word)\n",
    "    \n",
    "    return found_words\n",
    "\n",
    "\n",
    "text = 'The quick brown fox jumps over the lazy dog.'\n",
    "\n",
    "searched_words = ['fox', 'dog', 'horse']\n",
    "\n",
    "print(search_literals(text, searched_words))"
   ]
  },
  {
   "cell_type": "markdown",
   "id": "3affa5c6",
   "metadata": {},
   "source": [
    "# <span style=\"color:blue\">Question 16- Write a Python program to search a literals string in a string and also find the location within the original string where the pattern occurs\n",
    "Sample text : 'The quick brown fox jumps over the lazy dog.'               \n",
    "Searched words : 'fox'\n"
   ]
  },
  {
   "cell_type": "code",
   "execution_count": 71,
   "id": "1b7c22aa",
   "metadata": {},
   "outputs": [
    {
     "name": "stdout",
     "output_type": "stream",
     "text": [
      "<re.Match object; span=(16, 19), match='fox'>\n"
     ]
    }
   ],
   "source": [
    "Sample_text = 'The quick brown fox jumps over the lazy dog.'\n",
    "Searched_words ='fox'\n",
    "\n",
    "import re\n",
    "word=re.search(Searched_words,Sample_text)\n",
    "print(word)"
   ]
  },
  {
   "cell_type": "markdown",
   "id": "0a67ce2b",
   "metadata": {},
   "source": [
    "# <span style=\"color:blue\">Question 17- Write a Python program to find the substrings within a string.\n",
    "Sample text : 'Python exercises, PHP exercises, C# exercises'                      \n",
    "Pattern : 'exercises'.\n"
   ]
  },
  {
   "cell_type": "code",
   "execution_count": 74,
   "id": "e5e754fe",
   "metadata": {},
   "outputs": [
    {
     "name": "stdout",
     "output_type": "stream",
     "text": [
      "Found exercises\n",
      "Found exercises\n",
      "Found exercises\n"
     ]
    }
   ],
   "source": [
    "text = 'Python exercises, PHP exercises, C# exercises'\n",
    "pattern = 'exercises'\n",
    "for match in re.findall(pattern, text):\n",
    "    print(\"Found\",match)"
   ]
  },
  {
   "cell_type": "markdown",
   "id": "f8606c3e",
   "metadata": {},
   "source": [
    "# <span style=\"color:blue\">Question 18- Write a Python program to find the occurrence and position of the substrings within a string."
   ]
  },
  {
   "cell_type": "code",
   "execution_count": 81,
   "id": "c318480e",
   "metadata": {},
   "outputs": [
    {
     "name": "stdout",
     "output_type": "stream",
     "text": [
      "'exercises' found in 'Python exercises, PHP exercises, C# exercises' from index 7 to 16\n",
      "'exercises' found in 'Python exercises, PHP exercises, C# exercises' from index 22 to 31\n",
      "'exercises' found in 'Python exercises, PHP exercises, C# exercises' from index 36 to 45\n"
     ]
    }
   ],
   "source": [
    "import re\n",
    "\n",
    "def substrings_position(text, pattern):\n",
    "    matches = re.finditer(pattern, text)\n",
    "    for x in matches:\n",
    "        start = x.start()\n",
    "        end = x.end()\n",
    "        print(f\"'{pattern}' found in '{text}' from index {start} to {end}\")\n",
    "\n",
    "sample_text = 'Python exercises, PHP exercises, C# exercises'\n",
    "pattern = 'exercises'\n",
    "substrings_position(sample_text, pattern)\n"
   ]
  },
  {
   "cell_type": "markdown",
   "id": "ea76c893",
   "metadata": {},
   "source": [
    "# <span style=\"color:blue\">Question 19- Write a Python program to convert a date of yyyy-mm-dd format to dd-mm-yyyy format"
   ]
  },
  {
   "cell_type": "code",
   "execution_count": 91,
   "id": "86b7fb9c",
   "metadata": {},
   "outputs": [
    {
     "name": "stdout",
     "output_type": "stream",
     "text": [
      "New date: 26-08-2023\n"
     ]
    }
   ],
   "source": [
    "import re\n",
    "\n",
    "def date_format_converter(date):\n",
    "    match = re.search(r'(\\d{4})-(\\d{2})-(\\d{2})', date)\n",
    "    if match:\n",
    "        year = match.group(1)\n",
    "        month = match.group(2)\n",
    "        day = match.group(3)\n",
    "        \n",
    "        return (f'{day}-{month}-{year}')\n",
    "    else:\n",
    "        return date\n",
    "\n",
    "date = '2023-08-26'\n",
    "new_date = date_format_converter(date)\n",
    "\n",
    "print(f'New date: {new_date}')\n"
   ]
  },
  {
   "cell_type": "markdown",
   "id": "3b97c400",
   "metadata": {},
   "source": [
    "# <span style=\"color:blue\">Question 20- Create a function in python to find all decimal numbers with a precision of 1 or 2 in a string. The use of the re.compile() method is mandatory.\n",
    "Sample Text: \"01.12 0132.123 2.31875 145.8 3.01 27.25 0.25\"                              \n",
    "Expected Output: ['01.12', '145.8', '3.01', '27.25', '0.25']\n"
   ]
  },
  {
   "cell_type": "code",
   "execution_count": 100,
   "id": "8dc5f178",
   "metadata": {},
   "outputs": [
    {
     "name": "stdout",
     "output_type": "stream",
     "text": [
      "Numbers with precision of 1 or 2: ['01.12', '145.8', '3.01', '27.25', '0.25']\n"
     ]
    }
   ],
   "source": [
    "import re\n",
    "\n",
    "def dec_numbers(text):\n",
    "    pattern = re.compile(r'\\b[0-9]+\\.[0-9]{1,2}\\b')\n",
    "    num_matches = pattern.findall(text)\n",
    "    return num_matches\n",
    "\n",
    "sample_text = \"01.12 0132.123 2.31875 145.8 3.01 27.25 0.25\"\n",
    "result = dec_numbers(sample_text)\n",
    "print(f\"Numbers with precision of 1 or 2: {result}\")\n"
   ]
  },
  {
   "cell_type": "markdown",
   "id": "821a1e7e",
   "metadata": {},
   "source": [
    "# <span style=\"color:blue\">Question 21- Write a Python program to separate and print the numbers and their position of a given string."
   ]
  },
  {
   "cell_type": "code",
   "execution_count": 101,
   "id": "c8171ff2",
   "metadata": {},
   "outputs": [
    {
     "name": "stdout",
     "output_type": "stream",
     "text": [
      "Number: 43, Position: 24-26\n",
      "Number: 91, Position: 41-43\n"
     ]
    }
   ],
   "source": [
    "import re\n",
    "\n",
    "def numbers(text):\n",
    "    pattern = re.compile(r'\\d+')\n",
    "    for match in pattern.finditer(text):\n",
    "        start = match.start()\n",
    "        end = match.end()\n",
    "        number = match.group()\n",
    "        print(f\"Number: {number}, Position: {start}-{end}\")\n",
    "\n",
    "sample_text = \"Rohit Sharma has scored 43 CENTURIES and 91 CENTURIES in his cricket career\"\n",
    "numbers(sample_text)\n"
   ]
  },
  {
   "cell_type": "markdown",
   "id": "fa7659b7",
   "metadata": {},
   "source": [
    "# <span style=\"color:blue\">Question 22- Write a regular expression in python program to extract maximum/largest numeric value from a string.\n",
    "Sample Text:  'My marks in each semester are: 947, 896, 926, 524, 734, 950, 642'               \n",
    "Expected Output: 950\n"
   ]
  },
  {
   "cell_type": "code",
   "execution_count": 102,
   "id": "7612ee5a",
   "metadata": {},
   "outputs": [
    {
     "name": "stdout",
     "output_type": "stream",
     "text": [
      "950\n"
     ]
    }
   ],
   "source": [
    "import re\n",
    "\n",
    "text = 'My marks in each semester are: 947, 896, 926, 524, 734, 950, 642'\n",
    "\n",
    "numbers = re.findall(r'\\d+', text)\n",
    "\n",
    "max_value = max(map(int, numbers))# Convert the numbers to integers and find the maximum value\n",
    "\n",
    "print(max_value)"
   ]
  },
  {
   "cell_type": "markdown",
   "id": "a097570e",
   "metadata": {},
   "source": [
    "# <span style=\"color:blue\">Question 23- Create a function in python to insert spaces between words starting with capital letters.\n",
    "Sample Text: “RegularExpressionIsAnImportantTopicInPython\"                        \n",
    "Expected Output: Regular Expression Is An Important Topic In Python\n"
   ]
  },
  {
   "cell_type": "code",
   "execution_count": 104,
   "id": "0cc7d3c7",
   "metadata": {},
   "outputs": [
    {
     "name": "stdout",
     "output_type": "stream",
     "text": [
      "Regular Expression Is An Important Topic In Python\n"
     ]
    }
   ],
   "source": [
    "import re\n",
    "\n",
    "def insert_spaces(text):\n",
    "    \n",
    "    num_words = re.findall(r'[A-Z][a-z]*', text)\n",
    "    new_text = ' '.join(num_words)\n",
    "    return new_text\n",
    "\n",
    "text = \"RegularExpressionIsAnImportantTopicInPython\"\n",
    "output = insert_spaces(text)\n",
    "print(output)"
   ]
  },
  {
   "cell_type": "markdown",
   "id": "749664ec",
   "metadata": {},
   "source": [
    "# <span style=\"color:blue\">Question 24- Python regex to find sequences of one upper case letter followed by lower case letters"
   ]
  },
  {
   "cell_type": "code",
   "execution_count": 108,
   "id": "fb52b354",
   "metadata": {},
   "outputs": [
    {
     "name": "stdout",
     "output_type": "stream",
     "text": [
      "['Aa', 'Bc', 'De', 'Xy']\n"
     ]
    }
   ],
   "source": [
    "import re\n",
    "\n",
    "text = \"Aa Bc CDe XyZ\"\n",
    "\n",
    "pattern = r'[A-Z][a-z]+'\n",
    "matches = re.findall(pattern,text)\n",
    "\n",
    "print(matches)"
   ]
  },
  {
   "cell_type": "markdown",
   "id": "8c13658c",
   "metadata": {},
   "source": [
    "# <span style=\"color:blue\">Question 25- Write a Python program to remove continuous duplicate words from Sentence using Regular Expression.\n",
    "Sample Text: \"Hello hello world world\"                          \n",
    "Expected Output: Hello hello world\n",
    "\n"
   ]
  },
  {
   "cell_type": "code",
   "execution_count": 111,
   "id": "c3967096",
   "metadata": {},
   "outputs": [
    {
     "name": "stdout",
     "output_type": "stream",
     "text": [
      "Hello hello world\n"
     ]
    }
   ],
   "source": [
    "str = \"Hello hello world world\"\n",
    "regex = r'\\b(\\w+)(?:\\W+\\1\\b)+'\n",
    "x = re.sub(regex, r'\\1', str)\n",
    "print(x)"
   ]
  },
  {
   "cell_type": "markdown",
   "id": "049bb81f",
   "metadata": {},
   "source": [
    "# <span style=\"color:blue\">Question 26-  Write a python program using RegEx to accept string ending with alphanumeric character."
   ]
  },
  {
   "cell_type": "code",
   "execution_count": 129,
   "id": "66871f36",
   "metadata": {},
   "outputs": [
    {
     "data": {
      "text/plain": [
       "True"
      ]
     },
     "execution_count": 129,
     "metadata": {},
     "output_type": "execute_result"
    }
   ],
   "source": [
    "import re\n",
    "\n",
    "def alphanumeric(text):\n",
    "    match = re.search(r\"\\w$\", text)\n",
    "    if match:\n",
    "        return True\n",
    "    else:\n",
    "        return False\n",
    "\n",
    "text = 'This is a test123'\n",
    "alphanumeric(text)\n",
    "\n"
   ]
  },
  {
   "cell_type": "markdown",
   "id": "44a90362",
   "metadata": {},
   "source": [
    "# <span style=\"color:blue\">Question 27-Write a python program using RegEx to extract the hashtags.\n",
    "Sample Text:  \"\"\"RT @kapil_kausik: #Doltiwal I mean #xyzabc is \"hurt\" by #Demonetization as the same has rendered USELESS <ed><U+00A0><U+00BD><ed><U+00B1><U+0089> \"acquired funds\" No wo\"\"\"\n",
    "\n",
    "Expected Output: ['#Doltiwal', '#xyzabc', '#Demonetization']\n"
   ]
  },
  {
   "cell_type": "code",
   "execution_count": 130,
   "id": "d00b69d4",
   "metadata": {},
   "outputs": [
    {
     "name": "stdout",
     "output_type": "stream",
     "text": [
      "['#Doltiwal', '#xyzabc', '#Demonetization']\n"
     ]
    }
   ],
   "source": [
    "import re\n",
    "\n",
    "def hashtags(text):\n",
    "    pattern = r'#\\w+' \n",
    "    hashtags = re.findall(pattern, text)\n",
    "    return hashtags\n",
    "\n",
    "\n",
    "text = 'RT @kapil_kausik: #Doltiwal I mean #xyzabc is \"hurt\" by #Demonetization as the same has rendered USELESS <ed><U+00A0><U+00BD><ed><U+00B1><U+0089> \"acquired funds\" No wo'\n",
    " \n",
    "print(hashtags(text))"
   ]
  },
  {
   "cell_type": "markdown",
   "id": "d36cc384",
   "metadata": {},
   "source": [
    "# <span style=\"color:blue\">Question 28- Write a python program using RegEx to remove <U+..> like symbols\n",
    "Check the below sample text, there are strange symbols something of the sort <U+..> all over the place. You need to come up with a general Regex expression that will cover all such symbols.                                \n",
    "Sample Text: \"@Jags123456 Bharat band on 28??<ed><U+00A0><U+00BD><ed><U+00B8><U+0082>Those who  are protesting #demonetization  are all different party leaders\"                       \n",
    "Expected Output: @Jags123456 Bharat band on 28??<ed><ed>Those who  are protesting #demonetization  are all different party leaders\n"
   ]
  },
  {
   "cell_type": "code",
   "execution_count": 132,
   "id": "9ab1306a",
   "metadata": {},
   "outputs": [
    {
     "name": "stdout",
     "output_type": "stream",
     "text": [
      "@Jags123456 Bharat band on 28??<ed><ed>Those who are protesting #demonetization are all different party leaders\n"
     ]
    }
   ],
   "source": [
    "import re\n",
    "\n",
    "def remove_symbols(text):\n",
    "    pattern = r'<U\\+\\w+>'  \n",
    "    return  re.sub(pattern, '', text)\n",
    "\n",
    "text = \"@Jags123456 Bharat band on 28??<ed><U+00A0><U+00BD><ed><U+00B8><U+0082>Those who are protesting #demonetization are all different party leaders\"\n",
    "updated_text = remove_symbols(text)\n",
    "print(updated_text)"
   ]
  },
  {
   "cell_type": "markdown",
   "id": "1e7c949a",
   "metadata": {},
   "source": [
    "# <span style=\"color:blue\">Question 29- Write a python program to extract dates from the text stored in the text file.\n",
    "Sample Text: Ron was born on 12-09-1992 and he was admitted to school 15-12-1999.               \n",
    "Note- Store this sample text in the file and then extract dates.\n"
   ]
  },
  {
   "cell_type": "code",
   "execution_count": 148,
   "id": "c1691a05",
   "metadata": {},
   "outputs": [
    {
     "name": "stdout",
     "output_type": "stream",
     "text": [
      "['12-09-1992', '15-12-1999']\n"
     ]
    }
   ],
   "source": [
    "import re\n",
    "\n",
    "with open(r\"C:\\Users\\nirma\\OneDrive\\Desktop\\qn29..txt\") as file:\n",
    "    for string in file:\n",
    "        dates = re.findall(r'\\b\\d{2}-\\d{2}-\\d{4}\\b',string)\n",
    "        print( dates)"
   ]
  },
  {
   "cell_type": "markdown",
   "id": "e6c14ad8",
   "metadata": {},
   "source": [
    "# <span style=\"color:blue\">Question 30- Create a function in python to remove all words from a string of length between 2 and 4.\n",
    "The use of the re.compile() method is mandatory.                      \n",
    "Sample Text: \"The following example creates an ArrayList with a capacity of 50 elements. 4 elements are then added to the ArrayList and the ArrayList is trimmed accordingly.\"                                    \n",
    "Expected Output:  following example creates ArrayList a capacity elements. 4 elements added ArrayList ArrayList trimmed accordingly.\n"
   ]
  },
  {
   "cell_type": "code",
   "execution_count": 136,
   "id": "22750ec7",
   "metadata": {},
   "outputs": [
    {
     "name": "stdout",
     "output_type": "stream",
     "text": [
      " following example creates  ArrayList  a capacity   elements. 4 elements   added   ArrayList   ArrayList  trimmed accordingly.\n"
     ]
    }
   ],
   "source": [
    "import re\n",
    "\n",
    "def remove_words(text):\n",
    "    pattern = re.compile(r'\\b\\w{2,4}\\b')  \n",
    "    new_text = pattern.sub( \"\",text)\n",
    "    return new_text\n",
    "\n",
    "\n",
    "text = \"The following example creates an ArrayList with a capacity of 50 elements. 4 elements are then added to the ArrayList and the ArrayList is trimmed accordingly.\"\n",
    "\n",
    "print(remove_words(text))"
   ]
  },
  {
   "cell_type": "markdown",
   "id": "33049ef4",
   "metadata": {},
   "source": [
    "# ************************End**************************************************"
   ]
  },
  {
   "cell_type": "code",
   "execution_count": null,
   "id": "762d8bea",
   "metadata": {},
   "outputs": [],
   "source": []
  }
 ],
 "metadata": {
  "kernelspec": {
   "display_name": "Python 3 (ipykernel)",
   "language": "python",
   "name": "python3"
  },
  "language_info": {
   "codemirror_mode": {
    "name": "ipython",
    "version": 3
   },
   "file_extension": ".py",
   "mimetype": "text/x-python",
   "name": "python",
   "nbconvert_exporter": "python",
   "pygments_lexer": "ipython3",
   "version": "3.9.12"
  }
 },
 "nbformat": 4,
 "nbformat_minor": 5
}
